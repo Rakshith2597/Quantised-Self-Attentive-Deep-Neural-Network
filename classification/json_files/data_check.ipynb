{
 "cells": [
  {
   "cell_type": "code",
   "execution_count": 1,
   "metadata": {},
   "outputs": [],
   "source": [
    "import os\n",
    "from PIL import Image\n",
    "import csv\n",
    "import pandas as pd\n",
    "import json\n",
    "from tqdm.notebook import tqdm as tq\n",
    "import torch\n",
    "from torch.utils import data\n",
    "import numpy as np"
   ]
  },
  {
   "cell_type": "code",
   "execution_count": 2,
   "metadata": {},
   "outputs": [],
   "source": [
    "# Load all JSON files\n",
    "\n",
    "img_path = '/home/rakshith/Datasets/CXR8/images/images/'\n",
    "\n",
    "with open('cxr8_labels.json') as f1:\n",
    "    label_json_file = json.load(f1)\n",
    "\n",
    "with open('data_split.json') as f2:\n",
    "    data_split_file = json.load(f2)\n",
    "\n",
    "with open('problem_files.json') as f3:\n",
    "    problem_images = json.load(f3)\n",
    "\n",
    "with open('no_finding.json') as f4:\n",
    "        no_findings = json.load(f4)"
   ]
  },
  {
   "cell_type": "code",
   "execution_count": 3,
   "metadata": {},
   "outputs": [],
   "source": [
    "# Data Loader\n",
    "\n",
    "\n",
    "class ChestDataLoader(data.Dataset):\n",
    "    def __init__(self, label_json, name_list, is_transform=True):\n",
    "\n",
    "        self.label_json = label_json\n",
    "        self.files = name_list\n",
    "        self.is_transform = is_transform\n",
    "\n",
    "    def __len__(self):\n",
    "        return len(self.files)\n",
    "\n",
    "    def __getitem__(self, index):\n",
    "\n",
    "        filename = self.files[index]\n",
    "        label_list = self.label_json[filename]\n",
    "        Atelectasis, Cardiomegaly, Effusion, Infiltration = 0, 0, 0, 0\n",
    "        Mass, Nodule, Pneumonia, Pneumothorax = 0, 0, 0, 0\n",
    "        Consolidation, Edema, Emphysema, Fibrosis = 0, 0, 0, 0\n",
    "        Pleural_Thickening, Hernia= 0, 0\n",
    "\n",
    "        for label in label_list:\n",
    "            if label == 'Atelectasis':\n",
    "                Atelectasis = 1\n",
    "            elif label == 'Cardiomegaly':\n",
    "                Cardiomegaly = 1\n",
    "            elif label == 'Effusion':\n",
    "                Effusion = 1\n",
    "            elif label == 'Infiltration':\n",
    "                Infiltration = 1\n",
    "            elif label == 'Mass':\n",
    "                Mass = 1\n",
    "            elif label == 'Nodule':\n",
    "                Nodule = 1\n",
    "            elif label == 'Pneumonia':\n",
    "                Pneumonia = 1\n",
    "            elif label == 'Pneumothorax':\n",
    "                Pneumothorax = 1\n",
    "            elif label == 'Consolidation':\n",
    "                Consolidation = 1\n",
    "            elif label == 'Edema':\n",
    "                Edema = 1\n",
    "            elif label == 'Emphysema':\n",
    "                Emphysema = 1\n",
    "            elif label == 'Fibrosis':\n",
    "                Fibrosis = 1\n",
    "            elif label == 'Pleural_Thickening':\n",
    "                Pleural_Thickening = 1\n",
    "            elif label == 'Hernia':\n",
    "                Hernia = 1\n",
    "            else:\n",
    "                print(f'Filename:{filename}| Label:{label}')\n",
    "\n",
    "        label_final = [Atelectasis, Cardiomegaly, Effusion, Infiltration,\n",
    "                        Mass, Nodule, Pneumonia, Pneumothorax,\n",
    "                        Consolidation, Edema, Emphysema, Fibrosis,\n",
    "                        Pleural_Thickening, Hernia]\n",
    "        label_array = np.array(label_final)\n",
    "        label_tensor = torch.FloatTensor(label_array)\n",
    "\n",
    "\n",
    "        return label_tensor\n",
    "\n",
    "train_list = [file for file in data_split_file['train'] if file not in problem_images]\n",
    "train_list = [file for file in train_list if file not in no_findings]\n",
    "\n",
    "trainDset = ChestDataLoader(label_json = label_json_file,\n",
    "                            name_list=train_list,\n",
    "                            is_transform=True)\n",
    "\n",
    "trainDataLoader = data.DataLoader(\n",
    "                                trainDset, batch_size=1000, shuffle=True,\n",
    "                                num_workers=10, pin_memory=True)\n"
   ]
  },
  {
   "cell_type": "code",
   "execution_count": 5,
   "metadata": {},
   "outputs": [
    {
     "data": {
      "application/vnd.jupyter.widget-view+json": {
       "model_id": "71acabfd7a74420594d56a0740d8e293",
       "version_major": 2,
       "version_minor": 0
      },
      "text/plain": [
       "  0%|          | 0/59907 [00:00<?, ?it/s]"
      ]
     },
     "metadata": {},
     "output_type": "display_data"
    }
   ],
   "source": [
    "for file_name in tq(train_list):\n",
    "    label = label_json_file[file_name]\n",
    "    if label == 'No Finding':\n",
    "        print(file_name)\n",
    "    # print(file_name)\n",
    "    # break"
   ]
  },
  {
   "cell_type": "code",
   "execution_count": null,
   "metadata": {},
   "outputs": [],
   "source": [
    "class_sum = torch.zeros(14).cuda()\n",
    "for i,data_sample in enumerate(tq(trainDataLoader)):\n",
    "    img, label = data_sample\n",
    "    label = label.cuda()\n",
    "    # print(label.shape)\n",
    "    # print(label)\n",
    "    class_sum += torch.sum(label, dim=0)\n",
    "    if i>25:\n",
    "        break\n",
    "print(class_sum)"
   ]
  },
  {
   "cell_type": "code",
   "execution_count": null,
   "metadata": {},
   "outputs": [],
   "source": [
    "key_list = list(label_json_file.keys())\n",
    "\n",
    "# print(len(key_list))\n",
    "label_list = []\n",
    "for i in key_list:\n",
    "    label = label_json_file[i]\n",
    "    if label[0] == 'No Finding':\n",
    "        if len(label_list) < 10000:\n",
    "            label_list.append(i)\n",
    "\n",
    "# print(np.unique(label_list))\n",
    "# label_list[0]\n",
    "with open('no_finding.json','w') as f2:\n",
    "    json.dump(label_list, f2)"
   ]
  },
  {
   "cell_type": "code",
   "execution_count": null,
   "metadata": {},
   "outputs": [],
   "source": [
    "\n"
   ]
  },
  {
   "cell_type": "code",
   "execution_count": null,
   "metadata": {},
   "outputs": [],
   "source": [
    "image_dir = '/home/rakshith/Datasets/CXR8/images/images/'\n",
    "images_list = os.listdir(image_dir)\n",
    "problem_images = []\n",
    "# print(len(images_list))\n",
    "from torchvision import transforms\n",
    "import math\n",
    "sum = 0\n",
    "numerator = 0\n",
    "for i in tq(range(len(images_list))):\n",
    "    image_sample = Image.open(image_dir+images_list[i])\n",
    "    image_func = transforms.ToTensor()\n",
    "    image_sample = image_func(image_sample).cuda()\n",
    "    sum += torch.sum(image_sample)\n",
    "    # print(image_sample.shape)\n",
    "\n",
    "mean = sum/(len(images_list)*1024*1024)\n",
    "\n",
    "for i in tq(range(len(images_list))):\n",
    "    image_sample = Image.open(image_dir+images_list[i])\n",
    "    image_func = transforms.ToTensor()\n",
    "    image_sample = image_func(image_sample).cuda()\n",
    "    numerator += torch.sum((image_sample - mean)**2)\n",
    "\n",
    "std = math.sqrt(numerator/(len(images_list)*1024*1024))\n",
    "\n",
    "print('Mean:',mean)\n",
    "print('SD:',std)\n",
    "    # print(torch.unique(image_sample))\n",
    "    # break\n",
    "    # channel = image_sample.shape[0]\n",
    "    # if channel == 4:\n",
    "    #     problem_images.append(images_list[i])\n",
    "\n",
    "# print(len(problem_images))"
   ]
  },
  {
   "cell_type": "code",
   "execution_count": null,
   "metadata": {},
   "outputs": [],
   "source": [
    "csv_file = pd.read_csv('/home/rakshith/Datasets/CXR8/Data_Entry_2017_v2020.csv')\n",
    "csv_file['Image Index'][0]\n",
    "csv_file['Finding Labels'][0]\n",
    "len(csv_file)\n",
    "\n",
    "labels_dict = {}\n",
    "\n",
    "for idx in tq(range(len(csv_file))):\n",
    "    label_list = []\n",
    "    image_name = csv_file['Image Index'][idx]\n",
    "    label = csv_file['Finding Labels'][idx]\n",
    "    \n",
    "    if '|' in label:\n",
    "        labels = label.split('|')\n",
    "        label_list = label_list + labels\n",
    "    else:\n",
    "        label_list.append(label)\n",
    "\n",
    "    labels_dict[image_name] = label_list\n"
   ]
  },
  {
   "cell_type": "code",
   "execution_count": null,
   "metadata": {},
   "outputs": [],
   "source": [
    "with open('problem_files.json', 'w') as f1:\n",
    "    json.dump(problem_images, f1)"
   ]
  },
  {
   "cell_type": "code",
   "execution_count": null,
   "metadata": {},
   "outputs": [],
   "source": [
    "with open('cxr8_labels.json', 'w') as f1:\n",
    "    json.dump(labels_dict, f1)"
   ]
  },
  {
   "cell_type": "code",
   "execution_count": null,
   "metadata": {},
   "outputs": [],
   "source": [
    "\n",
    "with open('/home/rakshith/Datasets/CXR8/train_val_list.txt') as f:\n",
    "    lines = f.readlines()\n",
    "\n",
    "with open('/home/rakshith/Datasets/CXR8/test_list.txt') as f2:\n",
    "    lines2 = f2.readlines()\n",
    "\n",
    "train_list = []\n",
    "for idx in range(0, int(0.8*len(lines))):\n",
    "    filename = lines[idx][0:-1]\n",
    "    train_list.append(filename)\n",
    "\n",
    "val_list = []\n",
    "for idx in range(int(0.8*len(lines)), len(lines)):\n",
    "    filename = lines[idx][0:-1]\n",
    "    val_list.append(filename)\n",
    "\n",
    "test_list = []\n",
    "for idx in range(len(lines2)):\n",
    "    filename = lines2[idx][0:-1]\n",
    "    test_list.append(filename)\n",
    "print(len(train_list))\n",
    "print(len(val_list))\n",
    "print(len(test_list))\n"
   ]
  },
  {
   "cell_type": "code",
   "execution_count": null,
   "metadata": {},
   "outputs": [],
   "source": [
    "split_dict = {\n",
    "    'train':train_list,\n",
    "    'val':val_list,\n",
    "    'test':test_list\n",
    "}\n",
    "import json\n",
    "with open('data_split.json', 'w') as f1:\n",
    "    json.dump(split_dict, f1)"
   ]
  },
  {
   "cell_type": "code",
   "execution_count": null,
   "metadata": {},
   "outputs": [],
   "source": []
  }
 ],
 "metadata": {
  "interpreter": {
   "hash": "02d518ac1fc09ef5dc4eabe4d9fe87a26d09bc9551d9c7d27686a6ac8a51ace1"
  },
  "kernelspec": {
   "display_name": "Python 3.7.6 ('rak-env': conda)",
   "language": "python",
   "name": "python3"
  },
  "language_info": {
   "codemirror_mode": {
    "name": "ipython",
    "version": 3
   },
   "file_extension": ".py",
   "mimetype": "text/x-python",
   "name": "python",
   "nbconvert_exporter": "python",
   "pygments_lexer": "ipython3",
   "version": "3.7.6"
  },
  "orig_nbformat": 4
 },
 "nbformat": 4,
 "nbformat_minor": 2
}
